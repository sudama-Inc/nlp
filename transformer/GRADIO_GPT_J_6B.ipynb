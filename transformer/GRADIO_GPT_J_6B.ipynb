{
  "nbformat": 4,
  "nbformat_minor": 0,
  "metadata": {
    "colab": {
      "name": "GRADIO: GPT-J-6B.ipynb",
      "provenance": [],
      "authorship_tag": "ABX9TyPDk0Md2mmZ+xr8ZtFPAeMY",
      "include_colab_link": true
    },
    "kernelspec": {
      "name": "python3",
      "display_name": "Python 3"
    },
    "language_info": {
      "name": "python"
    },
    "accelerator": "GPU"
  },
  "cells": [
    {
      "cell_type": "markdown",
      "metadata": {
        "id": "view-in-github",
        "colab_type": "text"
      },
      "source": [
        "<a href=\"https://colab.research.google.com/github/sudama-Inc/nlp/blob/main/transformer/GRADIO_GPT_J_6B.ipynb\" target=\"_parent\"><img src=\"https://colab.research.google.com/assets/colab-badge.svg\" alt=\"Open In Colab\"/></a>"
      ]
    },
    {
      "cell_type": "markdown",
      "source": [
        "Using Gradio to wrap a text to text interface around GPT-J-6B\n",
        "*   Check out the library on github and see the getting started page for more demos.\n",
        "\n"
      ],
      "metadata": {
        "id": "seh7F1IM-JXC"
      }
    },
    {
      "cell_type": "markdown",
      "source": [
        "Installs and Imports Gradio"
      ],
      "metadata": {
        "id": "sRVN79wm-ZNP"
      }
    },
    {
      "cell_type": "code",
      "source": [
        "!pip install --quiet gradio"
      ],
      "metadata": {
        "colab": {
          "base_uri": "https://localhost:8080/"
        },
        "id": "CXHKsdwz-LwF",
        "outputId": "f1c281a3-ecf6-4f73-dd79-8078b73995f6"
      },
      "execution_count": 1,
      "outputs": [
        {
          "output_type": "stream",
          "name": "stdout",
          "text": [
            "\u001b[K     |████████████████████████████████| 5.1 MB 4.7 MB/s \n",
            "\u001b[K     |████████████████████████████████| 212 kB 59.4 MB/s \n",
            "\u001b[K     |████████████████████████████████| 54 kB 3.1 MB/s \n",
            "\u001b[K     |████████████████████████████████| 256 kB 65.4 MB/s \n",
            "\u001b[K     |████████████████████████████████| 2.0 MB 41.8 MB/s \n",
            "\u001b[K     |████████████████████████████████| 1.1 MB 45.5 MB/s \n",
            "\u001b[K     |████████████████████████████████| 53 kB 2.0 MB/s \n",
            "\u001b[K     |████████████████████████████████| 84 kB 3.2 MB/s \n",
            "\u001b[K     |████████████████████████████████| 94 kB 3.9 MB/s \n",
            "\u001b[K     |████████████████████████████████| 271 kB 67.1 MB/s \n",
            "\u001b[K     |████████████████████████████████| 144 kB 70.6 MB/s \n",
            "\u001b[K     |████████████████████████████████| 11.1 MB 70.9 MB/s \n",
            "\u001b[K     |████████████████████████████████| 63 kB 2.0 MB/s \n",
            "\u001b[K     |████████████████████████████████| 80 kB 8.8 MB/s \n",
            "\u001b[K     |████████████████████████████████| 43 kB 2.5 MB/s \n",
            "\u001b[K     |████████████████████████████████| 856 kB 53.3 MB/s \n",
            "\u001b[K     |████████████████████████████████| 4.0 MB 53.9 MB/s \n",
            "\u001b[K     |████████████████████████████████| 62 kB 940 kB/s \n",
            "\u001b[K     |████████████████████████████████| 58 kB 5.5 MB/s \n",
            "\u001b[?25h  Building wheel for ffmpy (setup.py) ... \u001b[?25l\u001b[?25hdone\n",
            "  Building wheel for python-multipart (setup.py) ... \u001b[?25l\u001b[?25hdone\n"
          ]
        }
      ]
    },
    {
      "cell_type": "code",
      "source": [
        "import gradio as gr\n",
        "\n",
        "title = \"GPT-J-6B\"\n",
        "\n",
        "examples = [\n",
        "    ['The tower is 324 metres (1,063 ft) tall,'],\n",
        "    [\"The Moon's orbit around Earth has\"],\n",
        "    [\"The smooth Borealis basin in the Northern Hemisphere covers 40%\"]\n",
        "]\n",
        "\n",
        "gr.Interface.load(\"huggingface/EleutherAI/gpt-j-6B\", \n",
        "    inputs=gr.inputs.Textbox(lines=5, label=\"Input Text\"),\n",
        "    title=title, examples=examples).launch();"
      ],
      "metadata": {
        "colab": {
          "base_uri": "https://localhost:8080/",
          "height": 836
        },
        "id": "x0BhC2iw-dap",
        "outputId": "0d6c64bf-af0f-425b-ac1e-9bbd4d7201de"
      },
      "execution_count": 2,
      "outputs": [
        {
          "output_type": "stream",
          "name": "stderr",
          "text": [
            "/usr/local/lib/python3.7/dist-packages/gradio/deprecation.py:40: UserWarning: `optional` parameter is deprecated, and it has no effect\n",
            "  warnings.warn(value)\n",
            "/usr/local/lib/python3.7/dist-packages/gradio/deprecation.py:40: UserWarning: `numeric` parameter is deprecated, and it has no effect\n",
            "  warnings.warn(value)\n",
            "/usr/local/lib/python3.7/dist-packages/gradio/deprecation.py:40: UserWarning: The 'type' parameter has been deprecated. Use the Number component instead.\n",
            "  warnings.warn(value)\n"
          ]
        },
        {
          "output_type": "stream",
          "name": "stdout",
          "text": [
            "Fetching model from: https://huggingface.co/EleutherAI/gpt-j-6B\n",
            "Colab notebook detected. To show errors in colab notebook, set `debug=True` in `launch()`\n",
            "Running on public URL: https://40526.gradio.app\n",
            "\n",
            "This share link expires in 72 hours. For free permanent hosting, check out Spaces (https://huggingface.co/spaces)\n"
          ]
        },
        {
          "output_type": "display_data",
          "data": {
            "text/plain": [
              "<IPython.core.display.HTML object>"
            ],
            "text/html": [
              "<div><iframe src=\"https://40526.gradio.app\" width=\"900\" height=\"500\" allow=\"autoplay; camera; microphone;\" frameborder=\"0\" allowfullscreen></iframe></div>"
            ]
          },
          "metadata": {}
        },
        {
          "output_type": "stream",
          "name": "stderr",
          "text": [
            "Exception in callback None(<Task finishe...> result=None>)\n",
            "handle: <Handle>\n",
            "Traceback (most recent call last):\n",
            "  File \"/usr/lib/python3.7/asyncio/events.py\", line 88, in _run\n",
            "    self._context.run(self._callback, *self._args)\n",
            "TypeError: 'NoneType' object is not callable\n"
          ]
        }
      ]
    },
    {
      "cell_type": "code",
      "source": [
        ""
      ],
      "metadata": {
        "id": "pwLOa0RO-jJ_"
      },
      "execution_count": null,
      "outputs": []
    }
  ]
}